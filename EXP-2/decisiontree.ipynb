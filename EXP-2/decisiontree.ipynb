{
 "cells": [
  {
   "cell_type": "code",
   "execution_count": null,
   "metadata": {},
   "outputs": [],
   "source": [
    "# Import necessary libraries and load the dataset\n",
    "\n",
    "import pandas as pd\n",
    "\n",
    "df = pd.read_csv(\"data1.csv\")\n",
    "\n",
    "df\n"
   ]
  },
  {
   "cell_type": "code",
   "execution_count": null,
   "metadata": {},
   "outputs": [],
   "source": [
    "# Prepare input features by encoding categorical variables\n",
    "\n",
    "inputs=df.drop('Play Tennis',axis='columns')\n",
    "\n",
    "inputs\n",
    "from sklearn.preprocessing import LabelEncoder\n",
    "\n",
    "le_outlook = LabelEncoder()\n",
    "\n",
    "le_temp = LabelEncoder()\n",
    "\n",
    "le_humidity = LabelEncoder()\n",
    "\n",
    "le_wind = LabelEncoder()\n",
    "inputs['outlook_n']=le_outlook.fit_transform(inputs['Outlook'])\n",
    "\n",
    "inputs['temp_n']=le_temp.fit_transform(inputs['Temperature'])\n",
    "\n",
    "inputs['humidity_n']=le_humidity.fit_transform(inputs['Humidity'])\n",
    "\n",
    "inputs['wind_n']=le_wind.fit_transform(inputs['Wind'])\n",
    "inputs\n"
   ]
  },
  {
   "cell_type": "code",
   "execution_count": null,
   "metadata": {},
   "outputs": [],
   "source": [
    "# Extract the target variable from the DataFrame\n",
    "\n",
    "inputs_n=inputs.drop(['Day','Outlook','Temperature','Humidity','Wind'],axis='columns')\n",
    "inputs_n\n",
    "target=df['Play Tennis']\n",
    "\n",
    "target\n"
   ]
  },
  {
   "cell_type": "code",
   "execution_count": null,
   "metadata": {},
   "outputs": [],
   "source": [
    "# Initialize and train the decision tree classifier\n",
    "\n",
    "from sklearn import tree\n",
    "\n",
    "model=tree.DecisionTreeClassifier(criterion='entropy',random_state=0)\n",
    "model.fit(inputs_n, target)\n",
    "model.score(inputs_n,target)\n",
    "model.predict([[2,1,0,1]])\n",
    "model.predict([[2,0,0,0]])\n",
    "model.predict([[0,1,0,1]])\n"
   ]
  },
  {
   "cell_type": "code",
   "execution_count": null,
   "metadata": {},
   "outputs": [],
   "source": [
    "# Evaluate the model's performance and make predictions\n",
    "\n",
    "import matplotlib.pyplot as plt\n",
    "\n",
    "plt.figure(figsize=(10,10))\n",
    "\n",
    "tree.plot_tree(model,filled=True)\n",
    "\n",
    "#tree.plot_tree(model)\n",
    "print(tree.export_text(model))\n",
    "plt.figure(figsize=(10,10))\n",
    "\n",
    "feature_cols = ['outlook_n','temp_n','humidity_n','windy_n']\n",
    "\n",
    "tree.plot_tree(model,\n",
    "\n",
    "               class_names=['yes','no'],\n",
    "\n",
    "               filled=True,\n",
    "\n",
    "               rounded=True,\n",
    "\n",
    "               proportion=True,\n",
    "\n",
    "               feature_names=feature_cols, max_depth=8)\n",
    "\n",
    "plt.show()\n"
   ]
  },
  {
   "cell_type": "code",
   "execution_count": null,
   "metadata": {},
   "outputs": [],
   "source": [
    "# Visualize the decision tree structure\n",
    "\n",
    "from sklearn.model_selection import train_test_split\n",
    "\n",
    "x_train, x_test, y_train, y_test= train_test_split(inputs_n,target,test_size=0.2,random_state=110)\n",
    "len(x_train)\n",
    "len(x_test)\n"
   ]
  },
  {
   "cell_type": "code",
   "execution_count": null,
   "metadata": {},
   "outputs": [],
   "source": [
    "# Train the model on the training set and evaluate its accuracy\n",
    "\n",
    "from sklearn import metrics\n",
    "#create decision tree classifier\n",
    "\n",
    "clf = tree.DecisionTreeClassifier(criterion='entropy',random_state=0)\n",
    "\n",
    "clf = clf.fit(x_train,y_train)\n",
    "\n",
    "y_pred = clf.predict(x_test)\n",
    "#training score\n",
    "\n",
    "clf.score(x_train,y_train)\n",
    "print(\"Accuracy:\",metrics.accuracy_score(y_test,y_pred))\n",
    "feature_cols = ['outlook_n','temp_n','humidity_n', 'wind_n']\n",
    "plt.figure(figsize=(20,10))\n",
    "\n",
    "tree.plot_tree(clf,\n",
    "\n",
    "               class_names=['yes','no'],\n",
    "\n",
    "               filled=True,\n",
    "\n",
    "               rounded=True,\n",
    "\n",
    "               proportion=True,\n",
    "\n",
    "               feature_names=feature_cols, max_depth=8)\n",
    "\n",
    "plt.show()\n"
   ]
  }
 ],
 "metadata": {
  "kernelspec": {
   "display_name": "Python 3",
   "language": "python",
   "name": "python3"
  },
  "language_info": {
   "codemirror_mode": {
    "name": "ipython",
    "version": 3
   },
   "file_extension": ".py",
   "mimetype": "text/x-python",
   "name": "python",
   "nbconvert_exporter": "python",
   "pygments_lexer": "ipython3",
   "version": "3.12.8"
  }
 },
 "nbformat": 4,
 "nbformat_minor": 4
}
